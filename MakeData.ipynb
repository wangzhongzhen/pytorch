{
 "cells": [
  {
   "cell_type": "code",
   "execution_count": 2,
   "metadata": {},
   "outputs": [],
   "source": [
    "import numpy as np\n",
    "from torch.utils.data import Dataset\n",
    "import pydicom as dicom\n",
    "import os\n",
    "import cv2\n",
    "import matplotlib.pyplot as plt"
   ]
  },
  {
   "cell_type": "code",
   "execution_count": 45,
   "metadata": {},
   "outputs": [],
   "source": [
    "def concat(data1,data2):\n",
    "    #dicom 与 seg 合并程序\n",
    "    data = np.concatenate((data1[np.newaxis,:],data2[np.newaxis,:]),axis = 0)\n",
    "    return data"
   ]
  },
  {
   "cell_type": "code",
   "execution_count": 47,
   "metadata": {},
   "outputs": [],
   "source": [
    "def dcm(list):\n",
    "    #在slices 路径下仅保存 .dcm\n",
    "    list_ = []\n",
    "    for i in list:        \n",
    "        if i.split('.')[-1]=='dcm':\n",
    "           list_.append(i)\n",
    "        \n",
    "    return list_\n",
    "        "
   ]
  },
  {
   "cell_type": "code",
   "execution_count": 48,
   "metadata": {},
   "outputs": [
    {
     "data": {
      "text/plain": [
       "((2, 256, 512, 512), '0')"
      ]
     },
     "execution_count": 48,
     "metadata": {},
     "output_type": "execute_result"
    }
   ],
   "source": [
    "def overlay(path):\n",
    "    # 输入：病例目录  ：slices  seg     \n",
    "    # 输出：3D文件  2, 256, 512, 512\n",
    "    data = []\n",
    "    label = path.split('/')[-2]\n",
    "    path1 = os.path.join(path,'slices')\n",
    "    path2 = os.path.join(path,'seg')\n",
    "    dir = D(os.listdir(path1))\n",
    "    \n",
    "    for dcm_img_id in dcm(dir):\n",
    "        dicom_path = os.path.join(path1,dcm_img_id)\n",
    "        dcm_img = dicom.read_file(dicom_path).pixel_array\n",
    "        seg_path = os.path.join(path2,dcm_img_id.split('.')[-2]+'.png')\n",
    "        \n",
    "        seg_img = cv2.imread(seg_path,0)\n",
    "#         print seg_img.shape\n",
    "        data.append(concat(seg_img,dcm_img))\n",
    "    data = np.array(data)\n",
    "    data = data.transpose(1,0,2,3)\n",
    "    return data.shape,label          # 返回叠加以后的数据和label\n",
    "overlay('./data/0/3')\n",
    "    \n",
    "    "
   ]
  },
  {
   "cell_type": "code",
   "execution_count": 49,
   "metadata": {},
   "outputs": [],
   "source": [
    "def D(list):\n",
    "    # 去掉mac中的Ds\n",
    "    if '.DS_Store' in list:\n",
    "            list.remove('.DS_Store')\n",
    "    return list"
   ]
  },
  {
   "cell_type": "code",
   "execution_count": 50,
   "metadata": {},
   "outputs": [],
   "source": [
    "def default_loader(img_id):\n",
    "#   输入文件的ID路径\n",
    "#   输出3d文件和label\n",
    "    print img_id    \n",
    "    img,label = overlay(img_id)\n",
    "    return img,label"
   ]
  },
  {
   "cell_type": "code",
   "execution_count": 51,
   "metadata": {},
   "outputs": [],
   "source": [
    "# torch_dataset = Data.TensorDataset(data_tensor=x, target_tensor=y)\n",
    "class myImageFloder(Dataset):\n",
    "    \n",
    "    def __init__(self,root,transform = None,target_transform=None,loader = default_loader):\n",
    "        self.root = root       \n",
    "        self.tranform = transform\n",
    "        self.target_transform = target_transform\n",
    "        self.loader = loader\n",
    "        class_ = os.listdir(root)  # root 文件下的0，1文件\n",
    "        class_ = D(class_)\n",
    "        img_id = []\n",
    "        \n",
    "        for i in class_:\n",
    "            for j in D(os.listdir(os.path.join(root,i))):\n",
    "                path = os.path.join(os.path.join(root,i),j)\n",
    "                img_id.append(path)     \n",
    "                \n",
    "        self.img_id = img_id\n",
    "        \n",
    "        \n",
    "            \n",
    "    def __getitem__(self,index):\n",
    "        img_id = self.img_id[index]\n",
    "        \n",
    "        img,label = self.loader(img_id)\n",
    "        \n",
    "        return img,label\n",
    "        \n",
    "    \n",
    "    def __len__(self):\n",
    "        return len(self.imgs)"
   ]
  },
  {
   "cell_type": "code",
   "execution_count": 58,
   "metadata": {},
   "outputs": [
    {
     "name": "stdout",
     "output_type": "stream",
     "text": [
      "./data1/0/P00017269T20180702R084831\n",
      "0\n",
      "((2, 224, 512, 512), 'label', '0')\n",
      "./data1/0/P00012233T20180622R084430\n",
      "1\n",
      "((2, 224, 512, 512), 'label', '0')\n",
      "./data1/0/P00007786T20180621R182848\n",
      "2\n",
      "((2, 224, 512, 512), 'label', '0')\n",
      "./data1/0/P00012690T20180613R094036\n",
      "3\n",
      "((2, 256, 512, 512), 'label', '0')\n",
      "./data1/0/P00014395T20180608R133636\n",
      "4\n",
      "((2, 224, 512, 512), 'label', '0')\n",
      "./data1/0/P00018129T20180702R160436\n",
      "5\n",
      "((2, 192, 512, 512), 'label', '0')\n",
      "./data1/0/P00016611T20180607R160455\n",
      "6\n",
      "((2, 256, 512, 512), 'label', '0')\n",
      "./data1/1/P00393459T20180612R110836\n",
      "7\n",
      "((2, 256, 512, 512), 'label', '1')\n",
      "./data1/1/P00442249T20180522R155657\n",
      "8\n",
      "((2, 224, 512, 512), 'label', '1')\n",
      "./data1/1/P00426290T20180625R155657\n",
      "9\n",
      "((2, 224, 512, 512), 'label', '1')\n",
      "./data1/1/P00410115T20180604R173634\n",
      "10\n",
      "((2, 224, 512, 512), 'label', '1')\n",
      "./data1/1/P00435379T20180625R151240\n",
      "11\n",
      "((2, 256, 512, 512), 'label', '1')\n",
      "./data1/1/P00443879T20180522R154453\n",
      "12\n",
      "((2, 256, 512, 512), 'label', '1')\n",
      "./data1/1/P00379300T20180709R111234\n",
      "13\n",
      "((2, 192, 512, 512), 'label', '1')\n"
     ]
    }
   ],
   "source": [
    "def testmyImageFloder(root='./data1'):\n",
    "    dataloader = myImageFloder(root)\n",
    "    \n",
    "    for index , (img, label) in enumerate(dataloader):\n",
    "        print index\n",
    "        print (img, 'label',label)\n",
    "       \n",
    "testmyImageFloder('./data1')"
   ]
  },
  {
   "cell_type": "code",
   "execution_count": null,
   "metadata": {},
   "outputs": [],
   "source": []
  }
 ],
 "metadata": {
  "kernelspec": {
   "display_name": "Python 2",
   "language": "python",
   "name": "python2"
  },
  "language_info": {
   "codemirror_mode": {
    "name": "ipython",
    "version": 2
   },
   "file_extension": ".py",
   "mimetype": "text/x-python",
   "name": "python",
   "nbconvert_exporter": "python",
   "pygments_lexer": "ipython2",
   "version": "2.7.14"
  }
 },
 "nbformat": 4,
 "nbformat_minor": 2
}
