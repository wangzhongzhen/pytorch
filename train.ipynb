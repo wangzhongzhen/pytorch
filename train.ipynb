{
 "cells": [
  {
   "cell_type": "code",
   "execution_count": 16,
   "metadata": {},
   "outputs": [],
   "source": [
    "import torch\n",
    "import torch.nn as nn\n",
    "from torchvision import datasets,transforms\n",
    "import torch.optim as optim\n",
    "from resnet import ResNet18"
   ]
  },
  {
   "cell_type": "code",
   "execution_count": 5,
   "metadata": {},
   "outputs": [
    {
     "name": "stdout",
     "output_type": "stream",
     "text": [
      "Files already downloaded and verified\n",
      "Files already downloaded and verified\n"
     ]
    }
   ],
   "source": [
    "train_dataset = datasets.CIFAR10(root='./data',transform=transforms.Compose([\n",
    "                                                        transforms.RandomCrop(32,padding=4),\n",
    "                                                        transforms.RandomHorizontalFlip(),\n",
    "                                                        transforms.ToTensor(),\n",
    "                    transforms.Normalize((0.4914, 0.4822, 0.4465), (0.2023, 0.1994, 0.2010))]),\n",
    "                                train = True,download = True)\n",
    "train_loader = torch.utils.data.DataLoader(dataset=train_dataset,batch_size=128,shuffle=True)\n",
    "\n",
    "test_dataset = datasets.CIFAR10(root='./data',transform=transforms.Compose([\n",
    "                                                    \n",
    "                                                        transforms.ToTensor(),\n",
    "                    transforms.Normalize((0.4914, 0.4822, 0.4465), (0.2023, 0.1994, 0.2010))]),\n",
    "                                train = False,download = True)\n",
    "test_loader = torch.utils.data.DataLoader(dataset=test_dataset,batch_size=128,shuffle=False)\n"
   ]
  },
  {
   "cell_type": "code",
   "execution_count": 14,
   "metadata": {},
   "outputs": [],
   "source": [
    "device = 'cuda' if torch.cuda.is_available() else 'cpu'\n"
   ]
  },
  {
   "cell_type": "code",
   "execution_count": 37,
   "metadata": {},
   "outputs": [],
   "source": [
    "net = ResNet18()\n",
    "net = net.to(device)\n",
    "citerion = nn.CrossEntropyLoss()\n",
    "optimizer = optim.SGD(net.parameters(),lr=0.01,momentum=0.9)"
   ]
  },
  {
   "cell_type": "code",
   "execution_count": 67,
   "metadata": {},
   "outputs": [],
   "source": [
    "def train(epoch):\n",
    "    train_loss = 0\n",
    "    total = 0\n",
    "    correct = 0\n",
    "    print 'epoch:',epoch\n",
    "    for batch_idx,(img,label) in enumerate(train_loader):\n",
    "        img = img.to(device)\n",
    "        label = label.to(device)\n",
    "#         print label.shape\n",
    "        output = net(img)\n",
    "#         print output.shape\n",
    "        \n",
    "        optimizer.zero_grad()\n",
    "        loss = citerion(output,label)\n",
    "        loss.backward()\n",
    "        optimizer.step()\n",
    "        \n",
    "        train_loss += loss.item()\n",
    "        _,predicted = output.max(1)\n",
    "        correct += predicted.eq(label).sum().item()\n",
    "        total += label.size(0)\n",
    "        \n",
    "        print (batch_idx, len(train_loader), 'Loss: %.3f | Acc: %.3f%% (%d/%d)'\n",
    "            % (train_loss/(batch_idx+1), 100.*correct/total, correct, total))\n",
    "        "
   ]
  },
  {
   "cell_type": "code",
   "execution_count": 68,
   "metadata": {},
   "outputs": [
    {
     "name": "stdout",
     "output_type": "stream",
     "text": [
      "epoch: 1\n",
      "(0, 391, 'Loss: 1.802 | Acc: 25.000% (32/128)')\n",
      "(1, 391, 'Loss: 1.819 | Acc: 27.734% (71/256)')\n",
      "(2, 391, 'Loss: 1.791 | Acc: 28.906% (111/384)')\n",
      "(3, 391, 'Loss: 1.811 | Acc: 30.273% (155/512)')\n",
      "(4, 391, 'Loss: 1.819 | Acc: 29.688% (190/640)')\n",
      "(5, 391, 'Loss: 1.809 | Acc: 30.990% (238/768)')\n",
      "(6, 391, 'Loss: 1.794 | Acc: 31.808% (285/896)')\n",
      "(7, 391, 'Loss: 1.786 | Acc: 32.227% (330/1024)')\n",
      "(8, 391, 'Loss: 1.792 | Acc: 32.378% (373/1152)')\n",
      "(9, 391, 'Loss: 1.784 | Acc: 33.125% (424/1280)')\n",
      "(10, 391, 'Loss: 1.785 | Acc: 32.741% (461/1408)')\n",
      "(11, 391, 'Loss: 1.775 | Acc: 33.398% (513/1536)')\n",
      "(12, 391, 'Loss: 1.765 | Acc: 33.594% (559/1664)')\n",
      "(13, 391, 'Loss: 1.759 | Acc: 33.817% (606/1792)')\n",
      "(14, 391, 'Loss: 1.764 | Acc: 34.010% (653/1920)')\n",
      "(15, 391, 'Loss: 1.765 | Acc: 34.277% (702/2048)')\n",
      "(16, 391, 'Loss: 1.765 | Acc: 34.329% (747/2176)')\n",
      "(17, 391, 'Loss: 1.759 | Acc: 34.592% (797/2304)')\n",
      "(18, 391, 'Loss: 1.755 | Acc: 34.745% (845/2432)')\n",
      "(19, 391, 'Loss: 1.758 | Acc: 34.648% (887/2560)')\n",
      "(20, 391, 'Loss: 1.760 | Acc: 34.412% (925/2688)')\n",
      "(21, 391, 'Loss: 1.754 | Acc: 34.730% (978/2816)')\n",
      "(22, 391, 'Loss: 1.758 | Acc: 34.647% (1020/2944)')\n",
      "(23, 391, 'Loss: 1.753 | Acc: 34.733% (1067/3072)')\n",
      "(24, 391, 'Loss: 1.752 | Acc: 34.812% (1114/3200)')\n",
      "(25, 391, 'Loss: 1.752 | Acc: 34.736% (1156/3328)')\n",
      "(26, 391, 'Loss: 1.756 | Acc: 34.780% (1202/3456)')\n",
      "(27, 391, 'Loss: 1.749 | Acc: 34.933% (1252/3584)')\n",
      "(28, 391, 'Loss: 1.745 | Acc: 35.291% (1310/3712)')\n",
      "(29, 391, 'Loss: 1.740 | Acc: 35.391% (1359/3840)')\n",
      "(30, 391, 'Loss: 1.740 | Acc: 35.307% (1401/3968)')\n",
      "(31, 391, 'Loss: 1.742 | Acc: 35.132% (1439/4096)')\n",
      "(32, 391, 'Loss: 1.737 | Acc: 35.298% (1491/4224)')\n",
      "(33, 391, 'Loss: 1.734 | Acc: 35.294% (1536/4352)')\n",
      "(34, 391, 'Loss: 1.735 | Acc: 35.246% (1579/4480)')\n"
     ]
    },
    {
     "ename": "KeyboardInterrupt",
     "evalue": "",
     "output_type": "error",
     "traceback": [
      "\u001b[0;31m---------------------------------------------------------------------------\u001b[0m",
      "\u001b[0;31mKeyboardInterrupt\u001b[0m                         Traceback (most recent call last)",
      "\u001b[0;32m<ipython-input-68-91189b3a0f94>\u001b[0m in \u001b[0;36m<module>\u001b[0;34m()\u001b[0m\n\u001b[0;32m----> 1\u001b[0;31m \u001b[0mtrain\u001b[0m\u001b[0;34m(\u001b[0m\u001b[0;36m1\u001b[0m\u001b[0;34m)\u001b[0m\u001b[0;34m\u001b[0m\u001b[0m\n\u001b[0m",
      "\u001b[0;32m<ipython-input-67-e5cefb2960dd>\u001b[0m in \u001b[0;36mtrain\u001b[0;34m(epoch)\u001b[0m\n\u001b[1;32m     13\u001b[0m         \u001b[0moptimizer\u001b[0m\u001b[0;34m.\u001b[0m\u001b[0mzero_grad\u001b[0m\u001b[0;34m(\u001b[0m\u001b[0;34m)\u001b[0m\u001b[0;34m\u001b[0m\u001b[0m\n\u001b[1;32m     14\u001b[0m         \u001b[0mloss\u001b[0m \u001b[0;34m=\u001b[0m \u001b[0mciterion\u001b[0m\u001b[0;34m(\u001b[0m\u001b[0moutput\u001b[0m\u001b[0;34m,\u001b[0m\u001b[0mlabel\u001b[0m\u001b[0;34m)\u001b[0m\u001b[0;34m\u001b[0m\u001b[0m\n\u001b[0;32m---> 15\u001b[0;31m         \u001b[0mloss\u001b[0m\u001b[0;34m.\u001b[0m\u001b[0mbackward\u001b[0m\u001b[0;34m(\u001b[0m\u001b[0;34m)\u001b[0m\u001b[0;34m\u001b[0m\u001b[0m\n\u001b[0m\u001b[1;32m     16\u001b[0m         \u001b[0moptimizer\u001b[0m\u001b[0;34m.\u001b[0m\u001b[0mstep\u001b[0m\u001b[0;34m(\u001b[0m\u001b[0;34m)\u001b[0m\u001b[0;34m\u001b[0m\u001b[0m\n\u001b[1;32m     17\u001b[0m \u001b[0;34m\u001b[0m\u001b[0m\n",
      "\u001b[0;32m/Users/apple/anaconda2/lib/python2.7/site-packages/torch/tensor.pyc\u001b[0m in \u001b[0;36mbackward\u001b[0;34m(self, gradient, retain_graph, create_graph)\u001b[0m\n\u001b[1;32m     91\u001b[0m                 \u001b[0mproducts\u001b[0m\u001b[0;34m.\u001b[0m \u001b[0mDefaults\u001b[0m \u001b[0mto\u001b[0m \u001b[0;34m`\u001b[0m\u001b[0;34m`\u001b[0m\u001b[0mFalse\u001b[0m\u001b[0;34m`\u001b[0m\u001b[0;34m`\u001b[0m\u001b[0;34m.\u001b[0m\u001b[0;34m\u001b[0m\u001b[0m\n\u001b[1;32m     92\u001b[0m         \"\"\"\n\u001b[0;32m---> 93\u001b[0;31m         \u001b[0mtorch\u001b[0m\u001b[0;34m.\u001b[0m\u001b[0mautograd\u001b[0m\u001b[0;34m.\u001b[0m\u001b[0mbackward\u001b[0m\u001b[0;34m(\u001b[0m\u001b[0mself\u001b[0m\u001b[0;34m,\u001b[0m \u001b[0mgradient\u001b[0m\u001b[0;34m,\u001b[0m \u001b[0mretain_graph\u001b[0m\u001b[0;34m,\u001b[0m \u001b[0mcreate_graph\u001b[0m\u001b[0;34m)\u001b[0m\u001b[0;34m\u001b[0m\u001b[0m\n\u001b[0m\u001b[1;32m     94\u001b[0m \u001b[0;34m\u001b[0m\u001b[0m\n\u001b[1;32m     95\u001b[0m     \u001b[0;32mdef\u001b[0m \u001b[0mregister_hook\u001b[0m\u001b[0;34m(\u001b[0m\u001b[0mself\u001b[0m\u001b[0;34m,\u001b[0m \u001b[0mhook\u001b[0m\u001b[0;34m)\u001b[0m\u001b[0;34m:\u001b[0m\u001b[0;34m\u001b[0m\u001b[0m\n",
      "\u001b[0;32m/Users/apple/anaconda2/lib/python2.7/site-packages/torch/autograd/__init__.pyc\u001b[0m in \u001b[0;36mbackward\u001b[0;34m(tensors, grad_tensors, retain_graph, create_graph, grad_variables)\u001b[0m\n\u001b[1;32m     87\u001b[0m     Variable._execution_engine.run_backward(\n\u001b[1;32m     88\u001b[0m         \u001b[0mtensors\u001b[0m\u001b[0;34m,\u001b[0m \u001b[0mgrad_tensors\u001b[0m\u001b[0;34m,\u001b[0m \u001b[0mretain_graph\u001b[0m\u001b[0;34m,\u001b[0m \u001b[0mcreate_graph\u001b[0m\u001b[0;34m,\u001b[0m\u001b[0;34m\u001b[0m\u001b[0m\n\u001b[0;32m---> 89\u001b[0;31m         allow_unreachable=True)  # allow_unreachable flag\n\u001b[0m\u001b[1;32m     90\u001b[0m \u001b[0;34m\u001b[0m\u001b[0m\n\u001b[1;32m     91\u001b[0m \u001b[0;34m\u001b[0m\u001b[0m\n",
      "\u001b[0;31mKeyboardInterrupt\u001b[0m: "
     ]
    }
   ],
   "source": [
    "train(1)"
   ]
  },
  {
   "cell_type": "code",
   "execution_count": 54,
   "metadata": {},
   "outputs": [],
   "source": [
    "input = torch.randn(2,5)"
   ]
  },
  {
   "cell_type": "code",
   "execution_count": 55,
   "metadata": {},
   "outputs": [
    {
     "data": {
      "text/plain": [
       "tensor([[-0.5216,  0.7835,  0.2874, -0.7642,  2.2948],\n",
       "        [ 0.7659,  0.3425,  0.1964,  0.9964,  0.4890]])"
      ]
     },
     "execution_count": 55,
     "metadata": {},
     "output_type": "execute_result"
    }
   ],
   "source": [
    "input"
   ]
  },
  {
   "cell_type": "code",
   "execution_count": 58,
   "metadata": {},
   "outputs": [
    {
     "data": {
      "text/plain": [
       "(tensor([ 2.2948,  0.9964]), tensor([ 4,  3]))"
      ]
     },
     "execution_count": 58,
     "metadata": {},
     "output_type": "execute_result"
    }
   ],
   "source": [
    "input.max(1)\n"
   ]
  },
  {
   "cell_type": "code",
   "execution_count": null,
   "metadata": {},
   "outputs": [],
   "source": []
  }
 ],
 "metadata": {
  "kernelspec": {
   "display_name": "Python 2",
   "language": "python",
   "name": "python2"
  },
  "language_info": {
   "codemirror_mode": {
    "name": "ipython",
    "version": 2
   },
   "file_extension": ".py",
   "mimetype": "text/x-python",
   "name": "python",
   "nbconvert_exporter": "python",
   "pygments_lexer": "ipython2",
   "version": "2.7.14"
  }
 },
 "nbformat": 4,
 "nbformat_minor": 2
}
